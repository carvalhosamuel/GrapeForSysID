{
 "cells": [
  {
   "cell_type": "markdown",
   "metadata": {
    "id": "W9KMI7t565lN"
   },
   "source": [
    "<div>\n",
    "<img src=\"https://drive.google.com/uc?export=view&id=1vK33e_EqaHgBHcbRV_m38hx6IkG0blK_\" width=\"350\"/>\n",
    "</div> \n",
    "\n",
    "###GRAPE code running System identification problems\n",
    "\n",
    "Allan De Lima, Douglas Dias, Samuel Carvalho\n",
    "\n",
    "The following notebook implements a GE solution for three benchmark system identification problems: Silverbox, Coupled Drives and Wiener-Hammersten. More details about these datasets can be seen at www.nonlinearbenchmark.org.\n"
   ]
  },
  {
   "cell_type": "code",
   "execution_count": 1,
   "metadata": {
    "colab": {
     "base_uri": "https://localhost:8080/"
    },
    "id": "qkRwXuzOZ_ci",
    "outputId": "4a08f9f7-f906-472f-9b77-dfa9a305a8c9",
    "scrolled": false
   },
   "outputs": [],
   "source": [
    "#from google.colab import drive\n",
    "#drive.mount('/content/drive', force_remount=True)"
   ]
  },
  {
   "cell_type": "markdown",
   "metadata": {
    "id": "xrYC0mfKFkh7"
   },
   "source": [
    "Clone this repository in which we have all functions and classes created or adapted to this work, if needed. If not, just cd into the /deap_ge folder."
   ]
  },
  {
   "cell_type": "markdown",
   "metadata": {
    "id": "uM8P0xAVWnJM"
   },
   "source": [
    "Import all the necessary libraries and install deap 1.3 if not yet available."
   ]
  },
  {
   "cell_type": "code",
   "execution_count": 2,
   "metadata": {
    "colab": {
     "base_uri": "https://localhost:8080/"
    },
    "id": "bQev7w_LvdFc",
    "outputId": "a7ab7034-c3bb-46af-8cc6-840d70db4f63"
   },
   "outputs": [
    {
     "name": "stdout",
     "output_type": "stream",
     "text": [
      "\u001b[0m\u001b[01;34mdeap_ge\u001b[0m/  GE_System_Identification_Problems.ipynb\n",
      "/home/samuel/Grape for SysID/deap_ge\n"
     ]
    }
   ],
   "source": [
    "#import os.path\n",
    "\n",
    "#PATH = '/content/drive/MyDrive/deap_ge/'\n",
    "#if os.path.exists(PATH):\n",
    "#    print('deap_ge directory already exists')\n",
    "#else:\n",
    "#    %cd /content/drive/MyDrive/\n",
    "#    !git clone https://github.com/danozu/deap_ge.git \n",
    "#    print('Cloning deap_ge in your Drive')\n",
    "%ls\n",
    "%cd ./deap_ge/"
   ]
  },
  {
   "cell_type": "code",
   "execution_count": 3,
   "metadata": {
    "id": "wn_LtlCBtLCG"
   },
   "outputs": [],
   "source": [
    "import multiprocessing as mp\n",
    "import warnings\n",
    "warnings.filterwarnings(\"ignore\")\n",
    "\n",
    "#!pip install deap==1.3 \n",
    "from ponyge2_adapted_files import Grammar, ge\n",
    "from functions import div, plog, psqrt, exp\n",
    "import algorithms\n",
    "import math\n",
    "import time\n",
    "from sklearn.metrics import mean_squared_error\n",
    "from statsmodels.tsa.tsatools import lagmat, lagmat2ds\n",
    "import pandas as pd\n",
    "import random\n",
    "from os import path\n",
    "import pandas as pd\n",
    "import numpy as np\n",
    "import matplotlib.pyplot as plt\n",
    "from deap import creator, base, tools"
   ]
  },
  {
   "cell_type": "code",
   "execution_count": 4,
   "metadata": {
    "colab": {
     "base_uri": "https://localhost:8080/"
    },
    "id": "be7FcJqpWnJM",
    "outputId": "5ac44584-bce4-4b8f-e6d1-c7a876f64e2a"
   },
   "outputs": [],
   "source": [
    "# Setting a random seed for repeatability\n",
    "RANDOM_SEED = 42\n",
    "random.seed(RANDOM_SEED)\n",
    "\n",
    "# Starting timer to measure execution time \n",
    "t = time.time()"
   ]
  },
  {
   "cell_type": "markdown",
   "metadata": {
    "id": "ZMDqE3S626v0"
   },
   "source": [
    "Set a system identification problem to solve. For now, we can choose among 'silverbox', 'coupled' and 'wienerhammerstein'."
   ]
  },
  {
   "cell_type": "code",
   "execution_count": 5,
   "metadata": {
    "id": "-nbedADI3EcL"
   },
   "outputs": [],
   "source": [
    "#problem = 'silverbox'\n",
    "problem = 'coupled'\n",
    "#problem = 'wienerhammerstein'"
   ]
  },
  {
   "cell_type": "markdown",
   "metadata": {
    "id": "zLg2gX1d3icE"
   },
   "source": [
    "Read datasets and grammars according to the problem picked in the previous cell. This piece of code will also create the lag matrices we need for the features and the Gaussian white noise."
   ]
  },
  {
   "cell_type": "code",
   "execution_count": 6,
   "metadata": {},
   "outputs": [],
   "source": [
    "### Loading dataset\n",
    "\n",
    "if problem == 'silverbox':\n",
    "      \n",
    "    ## Creating Training Features ##\n",
    "        \n",
    "    X_train = pd.read_csv('datasets/Silverbox/X_train.txt', sep='\\t', header=0)\n",
    "    X_train = np.array(X_train)\n",
    "    X_train = X_train.astype(float)\n",
    "    X_lagged_train = lagmat(X_train, maxlag=5, trim=\"forward\", original='in')\n",
    "    \n",
    "    \n",
    "    # X_lagged_train contains x[k] x[k-1] x[k-2] x[k-3] x[k-4] x[k-5]\n",
    "    \n",
    "    Y_train = pd.read_csv('datasets/Silverbox/Y_train.txt', header=0)\n",
    "    Y_train = np.array(Y_train)\n",
    "    Y_train = Y_train.astype(float)\n",
    "    Y_train = Y_train.flatten()\n",
    "    Y_lagged_train = lagmat(Y_train, maxlag=10, trim=\"forward\", original='ex')\n",
    "    \n",
    "    # Y_lagged_train contains y[k-1] y[k-2] .... y[k-10]\n",
    "    \n",
    "    \n",
    "    # White noise process for simulation \n",
    "\n",
    "    mean = 0\n",
    "    std = 0.0001 \n",
    "    num_samples = len(Y_train) \n",
    "    w_noise_train = np.random.normal(mean, std, size=num_samples)\n",
    "    w_noise_lagged_train = lagmat(w_noise_train, maxlag=5, trim=\"forward\", original='in')\n",
    "    \n",
    "    # Concatenating all together we will have:\n",
    "    # x[k] ... x[k-5]  | y[k-1] ... y[k-10] | w[k] ... w[k-5]    \n",
    "    \n",
    "    X_train_features = np.concatenate((X_lagged_train,Y_lagged_train,w_noise_lagged_train),axis=1)\n",
    "    X_train_features = np.transpose(X_train_features)\n",
    "    \n",
    "    \n",
    "    ## Creating Test Features ##\n",
    "    \n",
    "    X_test = pd.read_csv('datasets/Silverbox/X_test.txt', sep='\\t', header=0)\n",
    "    X_test = np.array(X_test)\n",
    "    X_test = X_test.astype(float)\n",
    "    X_lagged_test = lagmat(X_test, maxlag=5, trim=\"forward\", original='in')\n",
    "    \n",
    "    \n",
    "    # X_lagged_test contains x[k] x[k-1] x[k-2] x[k-3] x[k-4] x[k-5]\n",
    "    \n",
    "    Y_test = pd.read_csv('datasets/Silverbox/Y_test.txt', header=0)\n",
    "    Y_test = np.array(Y_test)\n",
    "    Y_test = Y_test.astype(float)\n",
    "    Y_test = Y_test.flatten()\n",
    "    Y_lagged_test = lagmat(Y_test, maxlag=10, trim=\"forward\", original='ex')\n",
    "    \n",
    "    # Y_lagged_test contains y[k-1] y[k-2] .... y[k-10]\n",
    "    \n",
    "    \n",
    "    # White noise process for simulation \n",
    "\n",
    "    mean = 0\n",
    "    std = 0.0001 \n",
    "    num_samples = len(Y_test) \n",
    "    w_noise_test = np.random.normal(mean, std, size=num_samples)\n",
    "    w_noise_lagged_test = lagmat(w_noise_test, maxlag=5, trim=\"forward\", original='in')\n",
    "    \n",
    "    # Concatenating all together we will have:\n",
    "    # x[k] ... x[k-5]  | y[k-1] ... y[k-10] | w[k] ... w[k-5]    \n",
    "    \n",
    "    X_test_features = np.concatenate((X_lagged_test,Y_lagged_test,w_noise_lagged_test),axis=1)\n",
    "    X_test_features = np.transpose(X_test_features)\n",
    "    \n",
    "    \n",
    "    ## Creating Validation (Prediction) Data ##\n",
    "    \n",
    "    X_val = pd.read_csv('datasets/Silverbox/X_validation.txt', sep='\\t', header=0)\n",
    "    X_val = np.array(X_val)\n",
    "    X_val = X_val.astype(float)\n",
    "    X_lagged_val= lagmat(X_val, maxlag=5, trim=\"forward\", original='in')\n",
    "       \n",
    "    # X_lagged_val contains x[k] x[k-1] x[k-2] x[k-3] x[k-4] x[k-5]\n",
    "    \n",
    "    Y_val = pd.read_csv('datasets/Silverbox/Y_validation.txt', header=0)\n",
    "    Y_val = np.array(Y_val)\n",
    "    Y_val = Y_val.astype(float)\n",
    "    Y_val = Y_val.flatten()\n",
    "    Y_lagged_val = lagmat(Y_val, maxlag=10, trim=\"forward\", original='ex')\n",
    "    \n",
    "    # Y_lagged_val contains y[k-1] y[k-2] .... y[k-10]\n",
    "    \n",
    "    # White noise process for simulation \n",
    "\n",
    "    mean = 0\n",
    "    std = 0.0001 \n",
    "    num_samples = len(Y_val) \n",
    "    w_noise_val = np.random.normal(mean, std, size=num_samples)\n",
    "    w_noise_lagged_val = lagmat(w_noise_val, maxlag=5, trim=\"forward\", original='in')\n",
    "    \n",
    "    # Concatenating all together we will have:\n",
    "    # x[k] ... x[k-5]  | y[k-1] ... y[k-10] | w[k] ... w[k-5]    \n",
    "    \n",
    "    X_val_features = np.concatenate((X_lagged_val,Y_lagged_val,w_noise_lagged_val),axis=1)\n",
    "    X_val_features = np.transpose(X_val_features)\n",
    "         \n",
    "\n",
    "    GRAMMAR_FILE = 'NARMAX.bnf'"
   ]
  },
  {
   "cell_type": "code",
   "execution_count": 7,
   "metadata": {},
   "outputs": [],
   "source": [
    "if problem == 'coupled':\n",
    "      \n",
    "    ## Creating Training Features ##\n",
    "        \n",
    "    X_train = pd.read_csv('datasets/CoupledDrives/X_train.txt', sep='\\t', header=0)\n",
    "    X_train = np.array(X_train)\n",
    "    X_train = X_train.astype(float)\n",
    "    X_lagged_train = lagmat(X_train, maxlag=5, trim=\"forward\", original='in')\n",
    "    \n",
    "    \n",
    "    # X_lagged_train contains x[k] x[k-1] x[k-2] x[k-3] x[k-4] x[k-5]\n",
    "    \n",
    "    Y_train = pd.read_csv('datasets/CoupledDrives/Y_train.txt', header=0)\n",
    "    Y_train = np.array(Y_train)\n",
    "    Y_train = Y_train.astype(float)\n",
    "    Y_train = Y_train.flatten()\n",
    "    Y_lagged_train = lagmat(Y_train, maxlag=10, trim=\"forward\", original='ex')\n",
    "    \n",
    "    # Y_lagged_train contains y[k-1] y[k-2] .... y[k-10]\n",
    "    \n",
    "    \n",
    "    # White noise process for simulation \n",
    "\n",
    "    mean = 0\n",
    "    std = 0.0001 \n",
    "    num_samples = len(Y_train) \n",
    "    w_noise_train = np.random.normal(mean, std, size=num_samples)\n",
    "    w_noise_lagged_train = lagmat(w_noise_train, maxlag=5, trim=\"forward\", original='in')\n",
    "    \n",
    "    # Concatenating all together we will have:\n",
    "    # x[k] ... x[k-5]  | y[k-1] ... y[k-10] | w[k] ... w[k-5]    \n",
    "    \n",
    "    X_train_features = np.concatenate((X_lagged_train,Y_lagged_train,w_noise_lagged_train),axis=1)\n",
    "    X_train_features = np.transpose(X_train_features)\n",
    "    \n",
    "    \n",
    "    ## Creating Test Features ##\n",
    "    \n",
    "    X_test = pd.read_csv('datasets/CoupledDrives/X_test.txt', sep='\\t', header=0)\n",
    "    X_test = np.array(X_test)\n",
    "    X_test = X_test.astype(float)\n",
    "    X_lagged_test = lagmat(X_test, maxlag=5, trim=\"forward\", original='in')\n",
    "    \n",
    "    \n",
    "    # X_lagged_test contains x[k] x[k-1] x[k-2] x[k-3] x[k-4] x[k-5]\n",
    "    \n",
    "    Y_test = pd.read_csv('datasets/CoupledDrives/Y_test.txt', header=0)\n",
    "    Y_test = np.array(Y_test)\n",
    "    Y_test = Y_test.astype(float)\n",
    "    Y_test = Y_test.flatten()\n",
    "    Y_lagged_test = lagmat(Y_test, maxlag=10, trim=\"forward\", original='ex')\n",
    "    \n",
    "    # Y_lagged_test contains y[k-1] y[k-2] .... y[k-10]\n",
    "    \n",
    "    \n",
    "    # White noise process for simulation \n",
    "\n",
    "    mean = 0\n",
    "    std = 0.0001 \n",
    "    num_samples = len(Y_test) \n",
    "    w_noise_test = np.random.normal(mean, std, size=num_samples)\n",
    "    w_noise_lagged_test = lagmat(w_noise_test, maxlag=5, trim=\"forward\", original='in')\n",
    "    \n",
    "    # Concatenating all together we will have:\n",
    "    # x[k] ... x[k-5]  | y[k-1] ... y[k-10] | w[k] ... w[k-5]    \n",
    "    \n",
    "    X_test_features = np.concatenate((X_lagged_test,Y_lagged_test,w_noise_lagged_test),axis=1)\n",
    "    X_test_features = np.transpose(X_test_features)\n",
    "    \n",
    "    \n",
    "    ## Creating Validation (Prediction) Data  (Same as test in this case)##\n",
    "    \n",
    "    X_val = X_test\n",
    "    X_lagged_val= X_lagged_test\n",
    "       \n",
    "    # X_lagged_val contains x[k] x[k-1] x[k-2] x[k-3] x[k-4] x[k-5]\n",
    "    \n",
    "    Y_val = Y_test\n",
    "    Y_lagged_val = Y_lagged_test\n",
    "    \n",
    "    # Y_lagged_val contains y[k-1] y[k-2] .... y[k-10]\n",
    "    \n",
    "    # White noise process for simulation \n",
    "\n",
    "    mean = 0\n",
    "    std = 0.0001 \n",
    "    num_samples = len(Y_val) \n",
    "    w_noise_val = np.random.normal(mean, std, size=num_samples)\n",
    "    w_noise_lagged_val = lagmat(w_noise_val, maxlag=5, trim=\"forward\", original='in')\n",
    "    \n",
    "    # Concatenating all together we will have:\n",
    "    # x[k] ... x[k-5]  | y[k-1] ... y[k-10] | w[k] ... w[k-5]    \n",
    "    \n",
    "    X_val_features = np.concatenate((X_lagged_val,Y_lagged_val,w_noise_lagged_val),axis=1)\n",
    "    X_val_features = np.transpose(X_val_features)\n",
    "         \n",
    "    \n",
    "    \n",
    "    #GRAMMAR_FILE = 'Coupled_NARMAX_ext.bnf'\n",
    "    GRAMMAR_FILE = 'NARMAX.bnf'\n",
    " "
   ]
  },
  {
   "cell_type": "code",
   "execution_count": 8,
   "metadata": {
    "id": "qwOSDQmuaVjx"
   },
   "outputs": [],
   "source": [
    "if problem == 'wienerhammerstein':\n",
    "      \n",
    "    ## Creating Training Features ##\n",
    "        \n",
    "    X_train = pd.read_csv('datasets/WienerHammerstein/X_train.txt', sep='\\t', header=0)\n",
    "    X_train = np.array(X_train)\n",
    "    X_train = X_train.astype(float)\n",
    "    X_lagged_train = lagmat(X_train, maxlag=5, trim=\"forward\", original='in')\n",
    "    \n",
    "    \n",
    "    # X_lagged_train contains x[k] x[k-1] x[k-2] x[k-3] x[k-4] x[k-5]\n",
    "    \n",
    "    Y_train = pd.read_csv('datasets/WienerHammerstein/Y_train.txt', header=0)\n",
    "    Y_train = np.array(Y_train)\n",
    "    Y_train = Y_train.astype(float)\n",
    "    Y_train = Y_train.flatten()\n",
    "    Y_lagged_train = lagmat(Y_train, maxlag=10, trim=\"forward\", original='ex')\n",
    "    \n",
    "    # Y_lagged_train contains y[k-1] y[k-2] .... y[k-10]\n",
    "    \n",
    "    \n",
    "    # White noise process for simulation \n",
    "\n",
    "    mean = 0\n",
    "    std = 0.0001 \n",
    "    num_samples = len(Y_train) \n",
    "    w_noise_train = np.random.normal(mean, std, size=num_samples)\n",
    "    w_noise_lagged_train = lagmat(w_noise_train, maxlag=5, trim=\"forward\", original='in')\n",
    "    \n",
    "    # Concatenating all together we will have:\n",
    "    # x[k] ... x[k-5]  | y[k-1] ... y[k-10] | w[k] ... w[k-5]    \n",
    "    \n",
    "    X_train_features = np.concatenate((X_lagged_train,Y_lagged_train,w_noise_lagged_train),axis=1)\n",
    "    X_train_features = np.transpose(X_train_features)\n",
    "    \n",
    "    \n",
    "    ## Creating Test Features ##\n",
    "    \n",
    "    X_test = pd.read_csv('datasets/WienerHammerstein/X_test.txt', sep='\\t', header=0)\n",
    "    X_test = np.array(X_test)\n",
    "    X_test = X_test.astype(float)\n",
    "    X_lagged_test = lagmat(X_test, maxlag=5, trim=\"forward\", original='in')\n",
    "    \n",
    "    \n",
    "    # X_lagged_test contains x[k] x[k-1] x[k-2] x[k-3] x[k-4] x[k-5]\n",
    "    \n",
    "    Y_test = pd.read_csv('datasets/WienerHammerstein/Y_test.txt', header=0)\n",
    "    Y_test = np.array(Y_test)\n",
    "    Y_test = Y_test.astype(float)\n",
    "    Y_test = Y_test.flatten()\n",
    "    Y_lagged_test = lagmat(Y_test, maxlag=10, trim=\"forward\", original='ex')\n",
    "    \n",
    "    # Y_lagged_test contains y[k-1] y[k-2] .... y[k-10]\n",
    "    \n",
    "    \n",
    "    # White noise process for simulation \n",
    "\n",
    "    mean = 0\n",
    "    std = 0.0001 \n",
    "    num_samples = len(Y_test) \n",
    "    w_noise_test = np.random.normal(mean, std, size=num_samples)\n",
    "    w_noise_lagged_test = lagmat(w_noise_test, maxlag=5, trim=\"forward\", original='in')\n",
    "    \n",
    "    # Concatenating all together we will have:\n",
    "    # x[k] ... x[k-5]  | y[k-1] ... y[k-10] | w[k] ... w[k-5]    \n",
    "    \n",
    "    X_test_features = np.concatenate((X_lagged_test,Y_lagged_test,w_noise_lagged_test),axis=1)\n",
    "    X_test_features = np.transpose(X_test_features)\n",
    "    \n",
    "    \n",
    "    ## Creating Validation (Prediction) Data ##\n",
    "    \n",
    "    X_val = pd.read_csv('datasets/WienerHammerstein/X_validation.txt', sep='\\t', header=0)\n",
    "    X_val = np.array(X_val)\n",
    "    X_val = X_val.astype(float)\n",
    "    X_lagged_val= lagmat(X_val, maxlag=5, trim=\"forward\", original='in')\n",
    "       \n",
    "    # X_lagged_val contains x[k] x[k-1] x[k-2] x[k-3] x[k-4] x[k-5]\n",
    "    \n",
    "    Y_val = pd.read_csv('datasets/WienerHammerstein/Y_validation.txt', header=0)\n",
    "    Y_val = np.array(Y_val)\n",
    "    Y_val = Y_val.astype(float)\n",
    "    Y_val = Y_val.flatten()\n",
    "    Y_lagged_val = lagmat(Y_val, maxlag=10, trim=\"forward\", original='ex')\n",
    "    \n",
    "    # Y_lagged_val contains y[k-1] y[k-2] .... y[k-10]\n",
    "    \n",
    "    # White noise process for simulation \n",
    "\n",
    "    mean = 0\n",
    "    std = 0.0001 \n",
    "    num_samples = len(Y_val) \n",
    "    w_noise_val = np.random.normal(mean, std, size=num_samples)\n",
    "    w_noise_lagged_val = lagmat(w_noise_val, maxlag=5, trim=\"forward\", original='in')\n",
    "    \n",
    "    # Concatenating all together we will have:\n",
    "    # x[k] ... x[k-5]  | y[k-1] ... y[k-10] | w[k] ... w[k-5]    \n",
    "    \n",
    "    X_val_features = np.concatenate((X_lagged_val,Y_lagged_val,w_noise_lagged_val),axis=1)\n",
    "    X_val_features = np.transpose(X_val_features)\n",
    "    \n",
    "    # White noise process for simulation \n",
    "        \n",
    "        \n",
    "    GRAMMAR_FILE = 'NARMAX.bnf'"
   ]
  },
  {
   "cell_type": "markdown",
   "metadata": {
    "id": "KPbXdsW62l0_"
   },
   "source": [
    "Print grammar."
   ]
  },
  {
   "cell_type": "code",
   "execution_count": 9,
   "metadata": {
    "colab": {
     "base_uri": "https://localhost:8080/"
    },
    "id": "dnKuEGiU2nlH",
    "outputId": "2c12caa9-1c43-42df-9c93-c5df6357c47e",
    "scrolled": true
   },
   "outputs": [
    {
     "name": "stdout",
     "output_type": "stream",
     "text": [
      "<expression> ::= <terms> + <epsilon>\n",
      "\n",
      "<terms> ::= <constant>*<inputterm>*<outputterm>*<noiseterm> |\n",
      "\t    <constant>*<inputterm>*<outputterm>*<noiseterm> + <terms>\t  \n",
      "\n",
      "<inputterm> ::= <input>| \n",
      "\t\tnp.power(<input>,<power>)| \n",
      "\t\t<input>*<inputterm>|\n",
      "\t\tnp.power(<input>,<power>)*<inputterm>|\n",
      "\t\t1\n",
      "\n",
      "<outputterm> ::= <output>| \n",
      "\t\tnp.power(<output>,<power>)| \n",
      "\t\t<output>*<outputterm>|\n",
      "\t\tnp.power(<output>,<power>)*<outputterm>|\n",
      "\t\t1\t        \n",
      "\n",
      "<noiseterm> ::= <noise>| \n",
      "\t\tnp.power(<noise>,<power>)| \n",
      "\t\t<noise>*<noiseterm>|\n",
      "\t\tnp.power(<noise>,<power>)*<noiseterm>|\n",
      "\t\t1\n",
      "\n",
      "<input>  ::= x[0]|x[1]|x[2]|x[3]|x[4]|x[5]\n",
      "<output> ::= x[6]|x[7]|x[8]|x[9]|x[10]|x[10]|x[11]|x[12]|x[13]|x[14]|x[15]\n",
      "<epsilon> ::= x[16]\n",
      "<noise>  ::= x[17]|x[18]|x[19]|x[20]|x[21]\n",
      "\n",
      "\n",
      "<power>    ::=  2 | 3 | 4 | 5\t\n",
      "<constant> ::=  +<c>.<c><c><c><c> | -<c>.<c><c><c><c>\n",
      "<c>  ::= 0 | 1 | 2 | 3 | 4 | 5 | 6 | 7 | 8 | 9\n",
      "\n",
      "\n"
     ]
    }
   ],
   "source": [
    "f = open(\"grammars/\" + GRAMMAR_FILE, \"r\")\n",
    "print(f.read())\n",
    "f.close() "
   ]
  },
  {
   "cell_type": "markdown",
   "metadata": {
    "id": "FP5SqEis6jAu"
   },
   "source": [
    "Set up the grammar addressed by GRAMMAR_FILE in the class Grammar."
   ]
  },
  {
   "cell_type": "code",
   "execution_count": 10,
   "metadata": {
    "id": "95tAf1SJ6Xju"
   },
   "outputs": [
    {
     "name": "stdout",
     "output_type": "stream",
     "text": [
      "Warning: Grammar contains unit production for production rule <expression>\n",
      "         Unit productions consume GE codons.\n",
      "Warning: Grammar contains unit production for production rule <epsilon>\n",
      "         Unit productions consume GE codons.\n"
     ]
    }
   ],
   "source": [
    "BNF_GRAMMAR = Grammar(path.join(\"grammars\", GRAMMAR_FILE))"
   ]
  },
  {
   "cell_type": "markdown",
   "metadata": {
    "id": "zg5mu47T840n"
   },
   "source": [
    "Define some useulf functions for fitness calculation and individuals simulation:"
   ]
  },
  {
   "cell_type": "code",
   "execution_count": 11,
   "metadata": {
    "id": "o_t1tajvqgyv"
   },
   "outputs": [],
   "source": [
    "# Function to prepare the individuals for simulation\n",
    "\n",
    "# We need it to translate phenotypes for a simulation loop, since it will reuse its own previous outputs y_hat[i-x]   \n",
    "\n",
    "def sim_prep(individual):\n",
    "    \n",
    "    best_individual = individual.phenotype\n",
    "    \n",
    "    # Input and past inputs\n",
    "    best_individual = best_individual.replace('x[0]','inputs[0][i]')\n",
    "    best_individual = best_individual.replace('x[1]','inputs[1][i]') \n",
    "    best_individual = best_individual.replace('x[2]','inputs[2][i]') \n",
    "    best_individual = best_individual.replace('x[3]','inputs[3][i]') \n",
    "    best_individual = best_individual.replace('x[4]','inputs[4][i]') \n",
    "    best_individual = best_individual.replace('x[5]','inputs[5][i]') \n",
    "    \n",
    "    # Past outputs \n",
    "    best_individual = best_individual.replace('x[6]','y_hat[i-1]')\n",
    "    best_individual = best_individual.replace('x[7]','y_hat[i-2]') \n",
    "    best_individual = best_individual.replace('x[8]','y_hat[i-3]') \n",
    "    best_individual = best_individual.replace('x[9]','y_hat[i-4]') \n",
    "    best_individual = best_individual.replace('x[10]','y_hat[i-5]') \n",
    "    best_individual = best_individual.replace('x[11]','y_hat[i-6]') \n",
    "    best_individual = best_individual.replace('x[12]','y_hat[i-7]') \n",
    "    best_individual = best_individual.replace('x[13]','y_hat[i-8]') \n",
    "    best_individual = best_individual.replace('x[14]','y_hat[i-9]') \n",
    "    best_individual = best_individual.replace('x[15]','y_hat[i-10]')\n",
    "    \n",
    "    # Noise terms: current and past observations\n",
    "    best_individual = best_individual.replace('x[16]','inputs[16][i]')\n",
    "    best_individual = best_individual.replace('x[17]','inputs[17][i]') \n",
    "    best_individual = best_individual.replace('x[18]','inputs[18][i]') \n",
    "    best_individual = best_individual.replace('x[19]','inputs[19][i]') \n",
    "    best_individual = best_individual.replace('x[20]','inputs[20][i]') \n",
    "    best_individual = best_individual.replace('x[21]','inputs[21][i]')   \n",
    "    \n",
    "    #print(best_individual)\n",
    "    \n",
    "    return best_individual"
   ]
  },
  {
   "cell_type": "code",
   "execution_count": 12,
   "metadata": {
    "id": "o_t1tajvqgyv"
   },
   "outputs": [],
   "source": [
    "# Function for simulating an individual using the validation data set\n",
    "# Returns the simulation RMSE and the output data y_hat\n",
    "\n",
    "def simulate(individual):\n",
    "    \n",
    "    expression = sim_prep(individual)\n",
    "    \n",
    "     # Loading features\n",
    "    inputs = X_val_features\n",
    "    \n",
    "    # Defining the output array and initial conditions\n",
    "    y_hat = np.zeros(shape=(inputs.shape[1],1))\n",
    "    \n",
    "    # Maximum lag (order) for the simulation\n",
    "    MAX_LAG = 10\n",
    "    \n",
    "    # Simulation for-loop\n",
    "    for i in np.arange(MAX_LAG+1,inputs.shape[1]):\n",
    "             \n",
    "        y_hat[i] = eval(expression)\n",
    "    \n",
    "    # Try to calculate RMSE, if something goes wrong return a high value\n",
    "    try:\n",
    "        sim_RMSE = mean_squared_error(Y_val[MAX_LAG+1:], y_hat[MAX_LAG+1:], squared=False)\n",
    "    except (FloatingPointError, ZeroDivisionError, OverflowError, MemoryError, ValueError):\n",
    "        sim_RMSE = 50\n",
    "    \n",
    "    return sim_RMSE, y_hat"
   ]
  },
  {
   "cell_type": "code",
   "execution_count": 13,
   "metadata": {
    "id": "o_t1tajvqgyv"
   },
   "outputs": [],
   "source": [
    "# Function for predicting an individual using the validation data set\n",
    "# Returns the prediction RMSE and the output data y_pred\n",
    "\n",
    "def predict(individual):\n",
    "    \n",
    "    expression = sim_prep(individual)\n",
    "    \n",
    "     # Loading features\n",
    "    inputs = X_val_features\n",
    "    \n",
    "    # Defining the output array \n",
    "    y_pred = np.zeros(shape=(inputs.shape[1],1))\n",
    "    \n",
    "    # For prediction, the past observations will be taken from the dataset, not past outputs\n",
    "    y_hat = Y_val\n",
    "    \n",
    "    # Maximum lag (order) for the simulation\n",
    "    MAX_LAG = 10\n",
    "    \n",
    "    # Simulation for-loop\n",
    "    for i in np.arange(MAX_LAG+1,inputs.shape[1]):\n",
    "             \n",
    "        y_pred[i] = eval(expression)\n",
    "    \n",
    "    # Try to calculate RMSE, if something goes wrong return high value\n",
    "    try:\n",
    "        pred_RMSE = mean_squared_error(Y_val[MAX_LAG+1:], y_pred[MAX_LAG+1:], squared=False)\n",
    "    except (FloatingPointError, ZeroDivisionError, OverflowError, MemoryError, ValueError):\n",
    "        pred_RMSE = 50\n",
    "    \n",
    "    return pred_RMSE, y_pred        \n"
   ]
  },
  {
   "cell_type": "code",
   "execution_count": 14,
   "metadata": {
    "id": "o_t1tajvqgyv"
   },
   "outputs": [],
   "source": [
    "# Fitness function that will use the prediction RMSE\n",
    "\n",
    "def fitness_eval(individual, points):\n",
    "    #points = [X, Y]\n",
    "    x = points[0]\n",
    "    y = points[1]\n",
    "    \n",
    "    \n",
    "    if individual.invalid == True:\n",
    "        return np.NaN,\n",
    "\n",
    "    try:\n",
    "        pred = eval(individual.phenotype)\n",
    "    except (FloatingPointError, ZeroDivisionError, OverflowError,\n",
    "            MemoryError, ValueError):\n",
    "        return np.NaN,\n",
    "    assert np.isrealobj(pred)\n",
    "    \n",
    "    try:\n",
    "        #fitness = np.mean(np.square(y - pred))\n",
    "        fitness = mean_squared_error(y,pred, squared=False)\n",
    "    except (FloatingPointError, ZeroDivisionError, OverflowError,\n",
    "            MemoryError, ValueError):\n",
    "        fitness = np.NaN\n",
    "    \n",
    "    if fitness == float(\"inf\"):\n",
    "      return np.NaN,    \n",
    "    return fitness,    \n"
   ]
  },
  {
   "cell_type": "code",
   "execution_count": 15,
   "metadata": {
    "id": "o_t1tajvqgyv"
   },
   "outputs": [],
   "source": [
    "# Fitness function that will use the simulation RMSE\n",
    "# SIGNIFICANTLY SLOWER THAN fitness_eval\n",
    "\n",
    "def sim_fitness_eval(individual, points):\n",
    "    #points = [X, Y]\n",
    "    x = points[0]\n",
    "    y = points[1]\n",
    "    \n",
    "    \n",
    "    if individual.invalid == True:\n",
    "        return np.NaN,\n",
    "\n",
    "    try:\n",
    "        \n",
    "        expression = sim_prep(individual)\n",
    "                \n",
    "         # Loading features\n",
    "        inputs = x\n",
    "        \n",
    "        # Defining the output array and initial conditions\n",
    "        y_hat = np.zeros(shape=(inputs.shape[1],1))\n",
    "        \n",
    "        # Maximum lag (order) for the simulation\n",
    "        MAX_LAG = 10\n",
    "        \n",
    "        # Simulation for-loop\n",
    "        for i in np.arange(MAX_LAG+1,inputs.shape[1]):\n",
    "                 \n",
    "            y_hat[i] = eval(expression)\n",
    "        \n",
    "        # Try to calculate RMSE, if something goes wrong return high value\n",
    "        try:\n",
    "            sim_RMSE = mean_squared_error(y[MAX_LAG+1:], y_hat[MAX_LAG+1:], squared=False)\n",
    "        except (FloatingPointError, ZeroDivisionError, OverflowError, MemoryError, ValueError):\n",
    "            sim_RMSE = 50\n",
    "        \n",
    "    except (FloatingPointError, ZeroDivisionError, OverflowError,\n",
    "            MemoryError, ValueError):\n",
    "        return np.NaN,\n",
    "    assert np.isrealobj(y_hat)\n",
    "     \n",
    "    if sim_RMSE == float(\"inf\"):\n",
    "      return np.NaN,    \n",
    "    return sim_RMSE,\n"
   ]
  },
  {
   "cell_type": "code",
   "execution_count": 16,
   "metadata": {
    "id": "o_t1tajvqgyv"
   },
   "outputs": [],
   "source": [
    "# Fitness function that will use both the simulation and prediction RMSE values\n",
    "# SIGNIFICANTLY SLOWER THAN fitness_eval\n",
    "\n",
    "def comb_fitness(individual,points):\n",
    "    \n",
    "    p_error = fitness_eval(individual,points)\n",
    "    s_error = sim_fitness_eval(individual,points)\n",
    "    \n",
    "    return p_error+s_error"
   ]
  },
  {
   "cell_type": "markdown",
   "metadata": {
    "id": "7CpHP_CfAI0y"
   },
   "source": [
    "Create the deap toolbox.\n",
    "\n",
    "Use negative weights in the `base.Fitness` since we are trying to minimise the fitness.\n",
    "\n",
    "`ge.Individual` is a class with the following attributes: `phenotype`, `genome`, `tree`, `nodes`, `invalid` (True or False), `depth` and `used_codons`.\n",
    "\n",
    "Usually, when using deap, we initialise each individual independently, and then we repeat that until we fill out the whole population. However, since we are using Position Independent Grow Initialisation, we need to initialise all individuals simultaneously.\n",
    "\n",
    "`ge.selTournament` prevents selecting invalid individuals.\n",
    "\n",
    "`ge.crossover_onepoint` selects crossover points within the used portion of the genome. \n",
    "\n",
    "Similarly, `ge.mutation_int_flip_per_codon` performs only over the effective length.\n",
    "\n"
   ]
  },
  {
   "cell_type": "code",
   "execution_count": 17,
   "metadata": {
    "id": "WbEpP5oC4Nwf"
   },
   "outputs": [],
   "source": [
    "toolbox = base.Toolbox()\n",
    "\n",
    "# define a single objective, minimising fitness strategy:\n",
    "creator.create(\"FitnessMin\", base.Fitness, weights=(-1.0,))\n",
    "\n",
    "creator.create('Individual', ge.Individual, fitness=creator.FitnessMin)\n",
    "\n",
    "toolbox.register(\"populationCreator\", ge.initialisation_PI_Grow, creator.Individual) \n",
    "\n",
    "toolbox.register(\"evaluate\", fitness_eval)\n",
    "\n",
    "# Tournament selection:\n",
    "toolbox.register(\"select\", ge.selTournament, tournsize=7)\n",
    "\n",
    "# Single-point crossover:\n",
    "toolbox.register(\"mate\", ge.crossover_onepoint)\n",
    "\n",
    "# Flip-int mutation:\n",
    "toolbox.register(\"mutate\", ge.mutation_int_flip_per_codon)\n"
   ]
  },
  {
   "cell_type": "markdown",
   "metadata": {
    "id": "d8fUnZi8WnJN"
   },
   "source": [
    "Set our Grammatical Evolution parameters."
   ]
  },
  {
   "cell_type": "code",
   "execution_count": 18,
   "metadata": {
    "id": "hFX8ofmXWnJO"
   },
   "outputs": [],
   "source": [
    "POPULATION_SIZE = 100\n",
    "MAX_GENERATIONS = 150\n",
    "P_CROSSOVER = 0.95\n",
    "P_MUTATION = 0.05\n",
    "ELITE_SIZE = round(0.01*POPULATION_SIZE)\n",
    "\n",
    "HALL_OF_FAME_SIZE = 1\n",
    "MAX_INIT_TREE_DEPTH = 20\n",
    "MIN_INIT_TREE_DEPTH = 5\n",
    "MAX_TREE_DEPTH = 150\n",
    "MAX_WRAPS = 0\n",
    "CODON_SIZE = 255"
   ]
  },
  {
   "cell_type": "markdown",
   "metadata": {
    "id": "d8fUnZi8WnJN"
   },
   "source": [
    "Set the total number of runs that we want, and starts our mutex for getting readable prints on the output."
   ]
  },
  {
   "cell_type": "code",
   "execution_count": 19,
   "metadata": {
    "id": "hFX8ofmXWnJO"
   },
   "outputs": [],
   "source": [
    "# Number of runs\n",
    "N_RUNS = 12\n",
    "\n",
    "# Mutex for the prints\n",
    "lock = mp.Lock()"
   ]
  },
  {
   "cell_type": "markdown",
   "metadata": {
    "id": "hVv4DJZlWnJV"
   },
   "source": [
    "Here we define a function called evoloop(), in which the evolutionary loop will happen for each of the \n",
    "\"N_RUNS\" runs. This function will later be called inside a for loop that asynchronously distributes each instance to a core/thread in the processor using the multiprocessing library.  "
   ]
  },
  {
   "cell_type": "code",
   "execution_count": 20,
   "metadata": {},
   "outputs": [],
   "source": [
    "# Function containing the evolutionary loop\n",
    "def evoloop(run):\n",
    "    \n",
    "    # Run number\n",
    "    r = run\n",
    "    \n",
    "    # create initial population (generation 0):\n",
    "    population = toolbox.populationCreator(size=POPULATION_SIZE, \n",
    "                                        bnf_grammar=BNF_GRAMMAR, \n",
    "                                        min_init_tree_depth=MIN_INIT_TREE_DEPTH,\n",
    "                                        max_init_tree_depth=MAX_INIT_TREE_DEPTH,\n",
    "                                        max_tree_depth=MAX_TREE_DEPTH, \n",
    "                                        max_wraps=MAX_WRAPS,\n",
    "                                        codon_size=CODON_SIZE\n",
    "                                        )\n",
    "\n",
    "    # define the hall-of-fame object:\n",
    "    hof = tools.HallOfFame(HALL_OF_FAME_SIZE)\n",
    " \n",
    "    stats = tools.Statistics(key=lambda ind: ind.fitness.values)# if not ind.invalid else (np.NaN,))#ind.fitness.values != np.inf else None)\n",
    "    stats.register(\"avg\", np.nanmean)\n",
    "    stats.register(\"std\", np.nanstd)\n",
    "    stats.register(\"min\", np.nanmin)\n",
    "    stats.register(\"max\", np.nanmax)\n",
    "    \n",
    "    \n",
    "    # Which run are we on?\n",
    "    lock.acquire()\n",
    "    print(\"\\n\\nCurrently on run\", r+1, \"of\",N_RUNS)\n",
    "    lock.release()\n",
    "    \n",
    "    # perform the Grammatical Evolution flow:\n",
    "    population, logbook = algorithms.ge_eaSimpleWithElitism(population, toolbox, cxpb=P_CROSSOVER, mutpb=P_MUTATION,\n",
    "                                          ngen=MAX_GENERATIONS, elite_size=ELITE_SIZE,\n",
    "                                          bnf_grammar=BNF_GRAMMAR, codon_size=CODON_SIZE, \n",
    "                                          max_tree_depth=MAX_TREE_DEPTH, max_wraps=MAX_WRAPS,\n",
    "                                          points_train=[X_train_features, Y_train], \n",
    "                                          points_test=[X_test_features, Y_test], \n",
    "                                          stats=stats, halloffame=hof, verbose=False)\n",
    "    \n",
    "    import textwrap\n",
    "    best = hof.items[0].phenotype\n",
    "    \n",
    "    # Printing outcome from this run\n",
    "    lock.acquire()\n",
    "    time.sleep(0.1)\n",
    "    print(\"\\n\\nResults of run\", r+1, \"of\",N_RUNS)\n",
    "    print(\"Best individual: \\n\",\"\\n\".join(textwrap.wrap(best,80)))\n",
    "    print(\"\\nTraining Fitness: \", hof.items[0].fitness.values[0])\n",
    "    print(\"Test Fitness: \", fitness_eval(hof.items[0], [X_test_features,Y_test])[0])\n",
    "    print(\"Depth: \", hof.items[0].depth)\n",
    "    print(\"Length of the genome: \", len(hof.items[0].genome))\n",
    "    print(f'Used portion of the genome: {hof.items[0].used_codons/len(hof.items[0].genome):.2f}')\n",
    "    \n",
    "    val_fitness = fitness_eval(hof.items[0], [X_val_features,Y_val])[0]\n",
    "    print(\"Validation Fitness: \", val_fitness)\n",
    "    lock.release()\n",
    "    \n",
    "    \n",
    "    return logbook, r+1 , val_fitness, hof.items[0]"
   ]
  },
  {
   "cell_type": "markdown",
   "metadata": {
    "id": "v6ysdI7kw8-S"
   },
   "source": [
    "Runs the evolutionary loop in parallel executions if N_RUNS>1 and extracts the statistics objects from them."
   ]
  },
  {
   "cell_type": "code",
   "execution_count": 21,
   "metadata": {
    "colab": {
     "base_uri": "https://localhost:8080/"
    },
    "id": "dQXPBI-lwJNW",
    "outputId": "ae9bf364-b9ee-4747-e86b-58641f52bbe0"
   },
   "outputs": [
    {
     "name": "stdout",
     "output_type": "stream",
     "text": [
      "\n",
      "\n",
      "Currently on run 3 of 12\n",
      "\n",
      "\n",
      "Currently on run 1 of 12\n",
      "\n",
      "\n",
      "Currently on run 8 of 12\n",
      "\n",
      "\n",
      "Currently on run 6 of 12\n",
      "\n",
      "\n",
      "Currently on run 12 of 12\n",
      "\n",
      "\n",
      "Currently on run 4 of 12\n",
      "\n",
      "\n",
      "Currently on run 5 of 12\n",
      "\n",
      "\n",
      "Currently on run 10 of 12\n",
      "\n",
      "\n",
      "Currently on run 9 of 12\n",
      "\n",
      "\n",
      "Currently on run 2 of 12\n",
      "\n",
      "\n",
      "Currently on run 7 of 12\n",
      "\n",
      "\n",
      "Currently on run 11 of 12\n",
      "\n",
      "\n",
      "Results of run 1 of 12\n",
      "Best individual: \n",
      " +1.0380*1*x[6]*1 + -0.0774*1*x[8]*1 + -7.2236*1*x[12]*x[20] +\n",
      "-4.0174*x[1]*np.power(x[0],4)*1*1*x[17] + +0.0374*np.power(x[4],4)*1*x[19] +\n",
      "+0.3453*1*np.power(x[7],2)*x[12]*np.power(x[21],2) + -4.5766*x[5]*1*x[19] +\n",
      "+0.0374*x[4]*1*1 + +5.3209*1*x[9]*np.power(x[21],4) + x[16]\n",
      "\n",
      "Training Fitness:  0.10268658733495588\n",
      "Test Fitness:  0.10877589291096366\n",
      "Depth:  13\n",
      "Length of the genome:  1013\n",
      "Used portion of the genome: 0.12\n",
      "Validation Fitness:  0.10617602801672488\n",
      "\n",
      "\n",
      "Results of run 3 of 12\n",
      "Best individual: \n",
      " +0.9364*1*x[6]*1 + +0.0238*x[4]*x[5]*1*1 + x[16]\n",
      "\n",
      "Training Fitness:  0.10662537777779553\n",
      "Test Fitness:  0.113301673591863\n",
      "Depth:  7\n",
      "Length of the genome:  787\n",
      "Used portion of the genome: 0.03\n",
      "Validation Fitness:  0.11330249519457232\n",
      "\n",
      "\n",
      "Results of run 11 of 12\n",
      "Best individual: \n",
      " +0.9111*1*x[6]*1 + +0.0388*x[4]*x[5]*1*1*1 + x[16]\n",
      "\n",
      "Training Fitness:  0.10355457633361513\n",
      "Test Fitness:  0.10416211510586054\n",
      "Depth:  7\n",
      "Length of the genome:  893\n",
      "Used portion of the genome: 0.03\n",
      "Validation Fitness:  0.1041640885169856\n",
      "\n",
      "\n",
      "Results of run 9 of 12\n",
      "Best individual: \n",
      " +0.9204*1*x[6]*1 + +0.0156*np.power(x[5],3)*1*1 +\n",
      "+1.5050*np.power(x[0],5)*x[4]*x[15]*x[18] + -5.9404*x[0]*1*1*x[21] +\n",
      "-0.0015*np.power(x[5],3)*x[6]*x[18] + x[16]\n",
      "\n",
      "Training Fitness:  0.10666239648649663\n",
      "Test Fitness:  0.10849586895023228\n",
      "Depth:  9\n",
      "Length of the genome:  1009\n",
      "Used portion of the genome: 0.07\n",
      "Validation Fitness:  0.10828792715463323\n",
      "\n",
      "\n",
      "Results of run 6 of 12\n",
      "Best individual: \n",
      " +0.9888*1*x[6]*1 + -2.5816*x[5]*np.power(x[4],2)*np.power(x[4],4)*1*1*x[18] +\n",
      "+6.9564*np.power(x[4],4)*1*1*x[18] + +9.9560*1*1*x[18] + x[16]\n",
      "\n",
      "Training Fitness:  0.11701796372960979\n",
      "Test Fitness:  0.1825251707555549\n",
      "Depth:  8\n",
      "Length of the genome:  1050\n",
      "Used portion of the genome: 0.05\n",
      "Validation Fitness:  0.16374194618388763\n",
      "\n",
      "\n",
      "Results of run 12 of 12\n",
      "Best individual: \n",
      " -1.5268*np.power(x[1],2)*np.power(x[2],5)*1*x[17] +\n",
      "+5.4940*np.power(x[2],3)*1*1*x[19] +\n",
      "+0.5958*x[0]*x[0]*x[1]*np.power(x[14],5)*x[20] + +0.9755*1*x[6]*1 +\n",
      "+4.9500*np.power(x[2],5)*1*np.power(x[20],3)*1 +\n",
      "-4.9619*np.power(x[4],5)*1*x[18] + x[16]\n",
      "\n",
      "Training Fitness:  0.11778063972769949\n",
      "Test Fitness:  0.17599329533464145\n",
      "Depth:  10\n",
      "Length of the genome:  846\n",
      "Used portion of the genome: 0.11\n",
      "Validation Fitness:  0.16283078181309\n",
      "\n",
      "\n",
      "Results of run 5 of 12\n",
      "Best individual: \n",
      " +1.0000*1*x[6]*1 + +0.5021*x[0]*x[14]*x[17]*np.power(x[21],2)*np.power(x[21],4)\n",
      "+ +2.0079*1*np.power(x[8],2)*x[8]*np.power(x[21],2) +\n",
      "-0.9034*np.power(x[0],2)*x[14]*np.power(x[17],4)*1 +\n",
      "+0.0174*np.power(x[4],2)*1*1 + x[16]\n",
      "\n",
      "Training Fitness:  0.11479087797021019\n",
      "Test Fitness:  0.12805788331946125\n",
      "Depth:  9\n",
      "Length of the genome:  804\n",
      "Used portion of the genome: 0.09\n",
      "Validation Fitness:  0.12805999508900148\n",
      "\n",
      "\n",
      "Results of run 4 of 12\n",
      "Best individual: \n",
      " +0.9887*1*x[6]*1 + -3.9096*np.power(x[2],5)*x[2]*1*x[18] +\n",
      "+9.3079*x[3]*x[15]*np.power(x[14],2)*x[21] +\n",
      "+9.7099*x[1]*np.power(x[0],3)*x[7]*x[18] + x[16]\n",
      "\n",
      "Training Fitness:  0.11765545137788841\n",
      "Test Fitness:  0.15605928937257155\n",
      "Depth:  9\n",
      "Length of the genome:  1194\n",
      "Used portion of the genome: 0.05\n",
      "Validation Fitness:  0.14817329298547943\n",
      "\n",
      "\n",
      "Results of run 7 of 12\n",
      "Best individual: \n",
      " +0.9900*1*x[6]*1*1 +\n",
      "-1.1091*x[4]*x[7]*np.power(x[19],3)*np.power(x[21],3)*np.power(x[21],3) +\n",
      "+0.0079*np.power(x[5],2)*1*1 + x[16]\n",
      "\n",
      "Training Fitness:  0.11548808541469588\n",
      "Test Fitness:  0.13058779762003458\n",
      "Depth:  8\n",
      "Length of the genome:  546\n",
      "Used portion of the genome: 0.08\n",
      "Validation Fitness:  0.13058816197878775\n",
      "\n",
      "\n",
      "Results of run 10 of 12\n",
      "Best individual: \n",
      " +6.3327*x[2]*1*np.power(x[17],2) + +1.0000*1*x[6]*1 + +0.9074*np.power(x[2],4)*n\n",
      "p.power(x[4],3)*np.power(x[3],2)*x[3]*np.power(x[2],3)*x[4]*x[0]*np.power(x[2],3\n",
      ")*x[0]*x[10]*np.power(x[17],2) +\n",
      "-0.0907*1*np.power(x[10],2)*1*np.power(x[17],4)*x[21]*np.power(x[17],2) + x[16]\n",
      "\n",
      "Training Fitness:  0.1179520306619867\n",
      "Test Fitness:  2.5752189170112167\n",
      "Depth:  15\n",
      "Length of the genome:  770\n",
      "Used portion of the genome: 0.11\n",
      "Validation Fitness:  0.5389014032063519\n",
      "\n",
      "\n",
      "Results of run 2 of 12\n",
      "Best individual: \n",
      " +6.5915*1*x[10]*x[17]*np.power(x[17],4) + +1.0018*1*x[6]*1 +\n",
      "-8.6784*np.power(x[4],5)*1*x[19] + +5.8422*x[3]*1*1*x[21] +\n",
      "-1.0040*x[3]*x[10]*np.power(x[10],4)*np.power(x[21],4) +\n",
      "+0.0030*np.power(x[2],3)*x[6]*1 + -6.4684*np.power(x[4],5)*1*x[17] +\n",
      "+5.9492*x[2]*1*1*np.power(x[17],4)*1 + +2.8240*1*np.power(x[7],5)*x[17] + x[16]\n",
      "\n",
      "Training Fitness:  0.11697426748418216\n",
      "Test Fitness:  0.1590532034664991\n",
      "Depth:  13\n",
      "Length of the genome:  1618\n",
      "Used portion of the genome: 0.08\n",
      "Validation Fitness:  0.14784679214831617\n",
      "\n",
      "\n",
      "Results of run 8 of 12\n",
      "Best individual: \n",
      " +0.1182*np.power(x[5],4)*x[15]*np.power(x[19],2) + -5.9192*np.power(x[5],3)*np.p\n",
      "ower(x[5],3)*x[7]*np.power(x[15],3)*x[9]*1*np.power(x[19],2)*x[19] +\n",
      "+7.7205*1*x[13]*x[17]*1 + +0.9888*1*x[6]*1 +\n",
      "-5.1906*np.power(x[0],3)*1*x[13]*np.power(x[17],3)*x[20]*np.power(x[18],3)*1 +\n",
      "-6.2571*np.power(x[3],5)*1*x[17] + x[16]\n",
      "\n",
      "Training Fitness:  0.11881007815456605\n",
      "Test Fitness:  0.14931911373281204\n",
      "Depth:  11\n",
      "Length of the genome:  1397\n",
      "Used portion of the genome: 0.07\n",
      "Validation Fitness:  0.14472007179437069\n",
      "\n",
      "\n",
      "==== Finished Parallel Runs ====\n",
      "\n",
      "\n"
     ]
    }
   ],
   "source": [
    "### Running the evoloop in parallel\n",
    "\n",
    "# Defines our pool of processors using all available ones\n",
    "pool = mp.Pool(mp.cpu_count())\n",
    "\n",
    "# Runs the evoloop function in parallel, passing only r as the argument \n",
    "results = pool.starmap_async(evoloop, [([r]) for r in range(0, N_RUNS)]).get()\n",
    "\n",
    "pool.close()\n",
    "\n",
    "# Waits for all queued processes to reach here before resuming\n",
    "pool.join() \n",
    "\n",
    "\n",
    "### Getting the objects from the runs, so we can extract statistics\n",
    "\n",
    "logbooks, runs, val_fit, hallof = zip(*results)\n",
    "\n",
    "print('\\n\\n==== Finished Parallel Runs ====\\n\\n')"
   ]
  },
  {
   "cell_type": "markdown",
   "metadata": {
    "id": "v6ysdI7kw8-S"
   },
   "source": [
    "Now we simulate only the best individuals from each run to get simulation RMSEs and other statistics."
   ]
  },
  {
   "cell_type": "code",
   "execution_count": 22,
   "metadata": {
    "colab": {
     "base_uri": "https://localhost:8080/",
     "height": 1000
    },
    "id": "5FSgzA_Evodg",
    "outputId": "32a8e24b-76d1-43cc-b93f-fbcc91e1754e"
   },
   "outputs": [
    {
     "name": "stdout",
     "output_type": "stream",
     "text": [
      "Entering Simulations\n",
      "Minimum simulation RMSE of 0.34632112718152336  at  [10]\n",
      "Phenotype of Best Individual:\n",
      "\n",
      "+0.9111*1*x[6]*1 + +0.0388*x[4]*x[5]*1*1*1 + x[16]\n",
      "\n",
      "\n",
      "Prediction error from best individual:  0.10491324894648313\n",
      "End of Simulations\n",
      "\n",
      "\n",
      "Elapsed Time:  31.431856632232666\n",
      "========\n"
     ]
    }
   ],
   "source": [
    "### Simulating the best individuals\n",
    "\n",
    "print(\"Entering Simulations\") \n",
    "\n",
    "simulation_RMSE = []\n",
    "simulation_outputs = []\n",
    "\n",
    "\n",
    "# Simulating all individuals on current hall of fame\n",
    " \n",
    "for individual in hallof:\n",
    "    \n",
    "    sim_RMSE, sim_output = simulate(individual)\n",
    "    \n",
    "    simulation_RMSE.append(sim_RMSE)\n",
    "    simulation_outputs.append(sim_output)\n",
    "    \n",
    "    #print('.')\n",
    "\n",
    "mymin = np.min(np.array(simulation_RMSE))\n",
    "min_positions = [i for i, x in enumerate(np.array(simulation_RMSE)) if x == mymin]\n",
    "\n",
    "print('Minimum simulation RMSE of', mymin, ' at ', min_positions)\n",
    "\n",
    "print('Phenotype of Best Individual:\\n')\n",
    "print(hallof[min_positions[0]].phenotype)\n",
    "print('\\n')\n",
    "\n",
    "best_sim_rmse, best_sim_output = simulate(hallof[min_positions[0]])\n",
    "fitness_eval(hallof[min_positions[0]], [X_val_features,Y_val])[0]\n",
    "\n",
    "best_pred_rmse, best_pred_output = predict(hallof[min_positions[0]])\n",
    "\n",
    "print(\"Prediction error from best individual: \", best_pred_rmse)\n",
    "\n",
    "print(\"End of Simulations\\n\\n\")\n",
    "\n",
    "\n",
    "# Printing the elapsed time for the whole experiment\n",
    "elapsed = time.time() - t\n",
    "print('Elapsed Time: ', elapsed)\n",
    "print('========')"
   ]
  },
  {
   "cell_type": "markdown",
   "metadata": {
    "id": "Noe-0Gik1Ep-"
   },
   "source": [
    "Plot some statistics and time-series graphs."
   ]
  },
  {
   "cell_type": "code",
   "execution_count": 23,
   "metadata": {
    "colab": {
     "base_uri": "https://localhost:8080/"
    },
    "id": "UZZ0IcRU0uYO",
    "outputId": "4f08f8c7-f8c2-46ab-eb4d-b682c5dd650a"
   },
   "outputs": [
    {
     "data": {
      "image/png": "[encoded data removed]",
      "text/plain": [
       "<Figure size 432x288 with 1 Axes>"
      ]
     },
     "metadata": {
      "needs_background": "light"
     },
     "output_type": "display_data"
    },
    {
     "data": {
      "image/png": "[encoded data removed]",
      "text/plain": [
       "<Figure size 432x288 with 1 Axes>"
      ]
     },
     "metadata": {
      "needs_background": "light"
     },
     "output_type": "display_data"
    },
    {
     "data": {
      "image/png": "[encoded data removed]",
      "text/plain": [
       "<Figure size 432x288 with 1 Axes>"
      ]
     },
     "metadata": {
      "needs_background": "light"
     },
     "output_type": "display_data"
    },
    {
     "data": {
      "image/png": "[encoded data removed]",
      "text/plain": [
       "<Figure size 432x288 with 1 Axes>"
      ]
     },
     "metadata": {
      "needs_background": "light"
     },
     "output_type": "display_data"
    },
    {
     "data": {
      "image/png": "[encoded data removed]",
      "text/plain": [
       "<Figure size 432x288 with 1 Axes>"
      ]
     },
     "metadata": {
      "needs_background": "light"
     },
     "output_type": "display_data"
    }
   ],
   "source": [
    "### Plots\n",
    "\n",
    "plt.ylabel('V')\n",
    "plt.title('RMSE values from simulation')\n",
    "plt.plot(np.arange(1, N_RUNS+1), simulation_RMSE, label=\"Val\",color=\"Blue\")\n",
    "plt.ylim(0,5)\n",
    "plt.show()\n",
    "\n",
    "\n",
    "plt.ylabel('V')\n",
    "plt.title('Output from Simulation')\n",
    "plt.plot(np.arange(0, X_val_features.shape[1]), Y_val, label=\"Val\",color=\"Blue\")\n",
    "plt.plot(np.arange(0, X_val_features.shape[1]), best_sim_output, label=\"Val\",color=\"Green\")\n",
    "plt.show()\n",
    "\n",
    "\n",
    "plt.ylabel('V')\n",
    "plt.title('Output from Prediction')\n",
    "plt.plot(np.arange(0, X_val_features.shape[1]), Y_val, label=\"Val\",color=\"Blue\")\n",
    "plt.plot(np.arange(0, X_val_features.shape[1]), best_pred_output, label=\"Val\",color=\"Green\")\n",
    "plt.show()\n",
    "\n",
    "\n",
    "### Statistics\n",
    "\n",
    "x_axis = np.arange(0, MAX_GENERATIONS+1)\n",
    "\n",
    "min_Fitness_List = []\n",
    "avg_Fitness_List = []\n",
    "\n",
    "for Logbook in logbooks:\n",
    "    \n",
    "    min_Fitness_List.append(Logbook.select(\"min\"))\n",
    "    avg_Fitness_List.append(Logbook.select(\"avg\"))\n",
    "\n",
    "min_Fitness_List = np.array(min_Fitness_List)\n",
    "avg_Fitness_List = np.array(avg_Fitness_List)\n",
    "\n",
    "\n",
    "plt.xlabel('Generation')\n",
    "plt.ylabel('Fitness')\n",
    "plt.title('Average Min Fitness for Symbolic Regression')\n",
    "plt.errorbar(x_axis, min_Fitness_List.mean(0), yerr=min_Fitness_List.std(0),label=\"Avg\", color=\"deepskyblue\")\n",
    "plt.show()\n",
    "\n",
    "\n",
    "plt.xlabel('Generation')\n",
    "plt.ylabel('Fitness')\n",
    "plt.title('Average Fitness for Symbolic Regression')\n",
    "plt.errorbar(x_axis, avg_Fitness_List.mean(0), yerr=avg_Fitness_List.std(0),label=\"Avg\", color=\"deepskyblue\")#\n",
    "plt.show()"
   ]
  }
 ],
 "metadata": {
  "colab": {
   "collapsed_sections": [],
   "name": "GE_Regression_Problems.ipynb",
   "provenance": []
  },
  "kernelspec": {
   "display_name": "Python 3",
   "language": "python",
   "name": "python3"
  },
  "language_info": {
   "codemirror_mode": {
    "name": "ipython",
    "version": 3
   },
   "file_extension": ".py",
   "mimetype": "text/x-python",
   "name": "python",
   "nbconvert_exporter": "python",
   "pygments_lexer": "ipython3",
   "version": "3.8.8"
  }
 },
 "nbformat": 4,
 "nbformat_minor": 1
}
